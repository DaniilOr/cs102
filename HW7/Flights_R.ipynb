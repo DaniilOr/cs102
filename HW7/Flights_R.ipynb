{
 "cells": [
  {
   "cell_type": "code",
   "execution_count": 1,
   "metadata": {},
   "outputs": [],
   "source": [
    "library(readr)"
   ]
  },
  {
   "cell_type": "code",
   "execution_count": 2,
   "metadata": {},
   "outputs": [],
   "source": [
    "df <- read_csv('datasetasig2.zip', col_types = cols_only(DayOfWeek = col_integer(), DayofMonth = col_integer(), Month = col_integer(), Cancelled = col_integer(), Year = col_integer(), FlightNum = col_integer(), Distance = col_double(), UniqueCarrier = col_character(), CancellationCode = col_character(), Origin = col_character(), Dest = col_character(), ArrDelay = col_integer(), DepDelay=col_integer(), CarrierDelay=col_integer(), WeatherDelay = col_integer(), NASDelay=col_integer(), SecurityDelay = col_integer(),  LateAircraftDelay=col_integer(), DepTime=col_integer()))"
   ]
  },
  {
   "cell_type": "code",
   "execution_count": 32,
   "metadata": {},
   "outputs": [
    {
     "data": {
      "text/html": [
       "<table>\n",
       "<caption>A tibble: 6 × 19</caption>\n",
       "<thead>\n",
       "\t<tr><th scope=col>Year</th><th scope=col>Month</th><th scope=col>DayofMonth</th><th scope=col>DayOfWeek</th><th scope=col>DepTime</th><th scope=col>UniqueCarrier</th><th scope=col>FlightNum</th><th scope=col>ArrDelay</th><th scope=col>DepDelay</th><th scope=col>Origin</th><th scope=col>Dest</th><th scope=col>Distance</th><th scope=col>Cancelled</th><th scope=col>CancellationCode</th><th scope=col>CarrierDelay</th><th scope=col>WeatherDelay</th><th scope=col>NASDelay</th><th scope=col>SecurityDelay</th><th scope=col>LateAircraftDelay</th></tr>\n",
       "\t<tr><th scope=col>&lt;int&gt;</th><th scope=col>&lt;int&gt;</th><th scope=col>&lt;int&gt;</th><th scope=col>&lt;int&gt;</th><th scope=col>&lt;int&gt;</th><th scope=col>&lt;chr&gt;</th><th scope=col>&lt;int&gt;</th><th scope=col>&lt;int&gt;</th><th scope=col>&lt;int&gt;</th><th scope=col>&lt;chr&gt;</th><th scope=col>&lt;chr&gt;</th><th scope=col>&lt;dbl&gt;</th><th scope=col>&lt;int&gt;</th><th scope=col>&lt;chr&gt;</th><th scope=col>&lt;int&gt;</th><th scope=col>&lt;int&gt;</th><th scope=col>&lt;int&gt;</th><th scope=col>&lt;int&gt;</th><th scope=col>&lt;int&gt;</th></tr>\n",
       "</thead>\n",
       "<tbody>\n",
       "\t<tr><td>2008</td><td>1</td><td>3</td><td>4</td><td>2003</td><td>WN</td><td> 335</td><td>-14</td><td> 8</td><td>IAD</td><td>TPA</td><td>810</td><td>0</td><td>NA</td><td>NA</td><td>NA</td><td>NA</td><td>NA</td><td>NA</td></tr>\n",
       "\t<tr><td>2008</td><td>1</td><td>3</td><td>4</td><td> 754</td><td>WN</td><td>3231</td><td>  2</td><td>19</td><td>IAD</td><td>TPA</td><td>810</td><td>0</td><td>NA</td><td>NA</td><td>NA</td><td>NA</td><td>NA</td><td>NA</td></tr>\n",
       "\t<tr><td>2008</td><td>1</td><td>3</td><td>4</td><td> 628</td><td>WN</td><td> 448</td><td> 14</td><td> 8</td><td>IND</td><td>BWI</td><td>515</td><td>0</td><td>NA</td><td>NA</td><td>NA</td><td>NA</td><td>NA</td><td>NA</td></tr>\n",
       "\t<tr><td>2008</td><td>1</td><td>3</td><td>4</td><td> 926</td><td>WN</td><td>1746</td><td> -6</td><td>-4</td><td>IND</td><td>BWI</td><td>515</td><td>0</td><td>NA</td><td>NA</td><td>NA</td><td>NA</td><td>NA</td><td>NA</td></tr>\n",
       "\t<tr><td>2008</td><td>1</td><td>3</td><td>4</td><td>1829</td><td>WN</td><td>3920</td><td> 34</td><td>34</td><td>IND</td><td>BWI</td><td>515</td><td>0</td><td>NA</td><td> 2</td><td> 0</td><td> 0</td><td> 0</td><td>32</td></tr>\n",
       "\t<tr><td>2008</td><td>1</td><td>3</td><td>4</td><td>1940</td><td>WN</td><td> 378</td><td> 11</td><td>25</td><td>IND</td><td>JAX</td><td>688</td><td>0</td><td>NA</td><td>NA</td><td>NA</td><td>NA</td><td>NA</td><td>NA</td></tr>\n",
       "</tbody>\n",
       "</table>\n"
      ],
      "text/latex": [
       "A tibble: 6 × 19\n",
       "\\begin{tabular}{lllllllllllllllllll}\n",
       " Year & Month & DayofMonth & DayOfWeek & DepTime & UniqueCarrier & FlightNum & ArrDelay & DepDelay & Origin & Dest & Distance & Cancelled & CancellationCode & CarrierDelay & WeatherDelay & NASDelay & SecurityDelay & LateAircraftDelay\\\\\n",
       " <int> & <int> & <int> & <int> & <int> & <chr> & <int> & <int> & <int> & <chr> & <chr> & <dbl> & <int> & <chr> & <int> & <int> & <int> & <int> & <int>\\\\\n",
       "\\hline\n",
       "\t 2008 & 1 & 3 & 4 & 2003 & WN &  335 & -14 &  8 & IAD & TPA & 810 & 0 & NA & NA & NA & NA & NA & NA\\\\\n",
       "\t 2008 & 1 & 3 & 4 &  754 & WN & 3231 &   2 & 19 & IAD & TPA & 810 & 0 & NA & NA & NA & NA & NA & NA\\\\\n",
       "\t 2008 & 1 & 3 & 4 &  628 & WN &  448 &  14 &  8 & IND & BWI & 515 & 0 & NA & NA & NA & NA & NA & NA\\\\\n",
       "\t 2008 & 1 & 3 & 4 &  926 & WN & 1746 &  -6 & -4 & IND & BWI & 515 & 0 & NA & NA & NA & NA & NA & NA\\\\\n",
       "\t 2008 & 1 & 3 & 4 & 1829 & WN & 3920 &  34 & 34 & IND & BWI & 515 & 0 & NA &  2 &  0 &  0 &  0 & 32\\\\\n",
       "\t 2008 & 1 & 3 & 4 & 1940 & WN &  378 &  11 & 25 & IND & JAX & 688 & 0 & NA & NA & NA & NA & NA & NA\\\\\n",
       "\\end{tabular}\n"
      ],
      "text/markdown": [
       "\n",
       "A tibble: 6 × 19\n",
       "\n",
       "| Year &lt;int&gt; | Month &lt;int&gt; | DayofMonth &lt;int&gt; | DayOfWeek &lt;int&gt; | DepTime &lt;int&gt; | UniqueCarrier &lt;chr&gt; | FlightNum &lt;int&gt; | ArrDelay &lt;int&gt; | DepDelay &lt;int&gt; | Origin &lt;chr&gt; | Dest &lt;chr&gt; | Distance &lt;dbl&gt; | Cancelled &lt;int&gt; | CancellationCode &lt;chr&gt; | CarrierDelay &lt;int&gt; | WeatherDelay &lt;int&gt; | NASDelay &lt;int&gt; | SecurityDelay &lt;int&gt; | LateAircraftDelay &lt;int&gt; |\n",
       "|---|---|---|---|---|---|---|---|---|---|---|---|---|---|---|---|---|---|---|\n",
       "| 2008 | 1 | 3 | 4 | 2003 | WN |  335 | -14 |  8 | IAD | TPA | 810 | 0 | NA | NA | NA | NA | NA | NA |\n",
       "| 2008 | 1 | 3 | 4 |  754 | WN | 3231 |   2 | 19 | IAD | TPA | 810 | 0 | NA | NA | NA | NA | NA | NA |\n",
       "| 2008 | 1 | 3 | 4 |  628 | WN |  448 |  14 |  8 | IND | BWI | 515 | 0 | NA | NA | NA | NA | NA | NA |\n",
       "| 2008 | 1 | 3 | 4 |  926 | WN | 1746 |  -6 | -4 | IND | BWI | 515 | 0 | NA | NA | NA | NA | NA | NA |\n",
       "| 2008 | 1 | 3 | 4 | 1829 | WN | 3920 |  34 | 34 | IND | BWI | 515 | 0 | NA |  2 |  0 |  0 |  0 | 32 |\n",
       "| 2008 | 1 | 3 | 4 | 1940 | WN |  378 |  11 | 25 | IND | JAX | 688 | 0 | NA | NA | NA | NA | NA | NA |\n",
       "\n"
      ],
      "text/plain": [
       "  Year Month DayofMonth DayOfWeek DepTime UniqueCarrier FlightNum ArrDelay\n",
       "1 2008 1     3          4         2003    WN             335      -14     \n",
       "2 2008 1     3          4          754    WN            3231        2     \n",
       "3 2008 1     3          4          628    WN             448       14     \n",
       "4 2008 1     3          4          926    WN            1746       -6     \n",
       "5 2008 1     3          4         1829    WN            3920       34     \n",
       "6 2008 1     3          4         1940    WN             378       11     \n",
       "  DepDelay Origin Dest Distance Cancelled CancellationCode CarrierDelay\n",
       "1  8       IAD    TPA  810      0         NA               NA          \n",
       "2 19       IAD    TPA  810      0         NA               NA          \n",
       "3  8       IND    BWI  515      0         NA               NA          \n",
       "4 -4       IND    BWI  515      0         NA               NA          \n",
       "5 34       IND    BWI  515      0         NA                2          \n",
       "6 25       IND    JAX  688      0         NA               NA          \n",
       "  WeatherDelay NASDelay SecurityDelay LateAircraftDelay\n",
       "1 NA           NA       NA            NA               \n",
       "2 NA           NA       NA            NA               \n",
       "3 NA           NA       NA            NA               \n",
       "4 NA           NA       NA            NA               \n",
       "5  0            0        0            32               \n",
       "6 NA           NA       NA            NA               "
      ]
     },
     "metadata": {},
     "output_type": "display_data"
    }
   ],
   "source": [
    "head(df)"
   ]
  },
  {
   "cell_type": "markdown",
   "metadata": {},
   "source": [
    "**1. Find top-10 carriers in terms of the number of completed flights (_UniqueCarrier_ column)?**\n",
    "\n",
    "**Which of the listed below is _not_ in your top-10 list?**\n",
    "- DL\n",
    "- AA\n",
    "- OO\n",
    "- **EV** "
   ]
  },
  {
   "cell_type": "code",
   "execution_count": 3,
   "metadata": {},
   "outputs": [
    {
     "name": "stderr",
     "output_type": "stream",
     "text": [
      "\n",
      "Attaching package: 'dplyr'\n",
      "\n",
      "\n",
      "The following objects are masked from 'package:stats':\n",
      "\n",
      "    filter, lag\n",
      "\n",
      "\n",
      "The following objects are masked from 'package:base':\n",
      "\n",
      "    intersect, setdiff, setequal, union\n",
      "\n",
      "\n"
     ]
    }
   ],
   "source": [
    "needed <- df\n",
    "\n",
    "library(dplyr)"
   ]
  },
  {
   "cell_type": "code",
   "execution_count": 47,
   "metadata": {},
   "outputs": [
    {
     "data": {
      "text/plain": [
       "\n",
       "     WN      AA      OO      MQ      US      DL      UA      XE      NW      CO \n",
       "1201754  604885  567159  490693  453589  451931  449515  374510  347652  298455 "
      ]
     },
     "metadata": {},
     "output_type": "display_data"
    }
   ],
   "source": [
    "sort(table(df['UniqueCarrier']), decreasing=TRUE)[1:10]"
   ]
  },
  {
   "cell_type": "markdown",
   "metadata": {},
   "source": [
    "**2. Plot distributions of flight cancellation reasons (_CancellationCode_).**\n",
    "\n",
    "**What is the most frequent reason for flight cancellation? (Use this [link](https://www.transtats.bts.gov/Fields.asp?Table_ID=236) to translate codes into reasons)**\n",
    "- carrier\n",
    "- **weather conditions**\n",
    "- National Air System\n",
    "- security reasons"
   ]
  },
  {
   "cell_type": "code",
   "execution_count": 48,
   "metadata": {},
   "outputs": [
    {
     "data": {
      "image/png": "[encoded data removed]",
      "text/plain": [
       "plot without title"
      ]
     },
     "metadata": {
      "image/png": {
       "height": 420,
       "width": 420
      }
     },
     "output_type": "display_data"
    }
   ],
   "source": [
    "sorted = sort(table(df['CancellationCode']), decreasing=TRUE)\n",
    "barplot(sorted)"
   ]
  },
  {
   "cell_type": "markdown",
   "metadata": {},
   "source": [
    "**3. Which route is the most frequent, in terms of the number of flights?**\n",
    "\n",
    "(Take a look at _'Origin'_ and _'Dest'_ features. Consider _A->B_ and _B->A_ directions as _different_ routes) \n",
    "\n",
    " - New-York – Washington\n",
    " - **San-Francisco – Los-Angeles** \n",
    " - San-Jose – Dallas\n",
    " - New-York – San-Francisco"
   ]
  },
  {
   "cell_type": "code",
   "execution_count": 62,
   "metadata": {},
   "outputs": [
    {
     "data": {
      "text/html": [
       "<table>\n",
       "<caption>A grouped_df: 1 × 3</caption>\n",
       "<thead>\n",
       "\t<tr><th scope=col>Origin</th><th scope=col>Dest</th><th scope=col>n</th></tr>\n",
       "\t<tr><th scope=col>&lt;chr&gt;</th><th scope=col>&lt;chr&gt;</th><th scope=col>&lt;int&gt;</th></tr>\n",
       "</thead>\n",
       "<tbody>\n",
       "\t<tr><td>SFO</td><td>LAX</td><td>13788</td></tr>\n",
       "</tbody>\n",
       "</table>\n"
      ],
      "text/latex": [
       "A grouped\\_df: 1 × 3\n",
       "\\begin{tabular}{lll}\n",
       " Origin & Dest & n\\\\\n",
       " <chr> & <chr> & <int>\\\\\n",
       "\\hline\n",
       "\t SFO & LAX & 13788\\\\\n",
       "\\end{tabular}\n"
      ],
      "text/markdown": [
       "\n",
       "A grouped_df: 1 × 3\n",
       "\n",
       "| Origin &lt;chr&gt; | Dest &lt;chr&gt; | n &lt;int&gt; |\n",
       "|---|---|---|\n",
       "| SFO | LAX | 13788 |\n",
       "\n"
      ],
      "text/plain": [
       "  Origin Dest n    \n",
       "1 SFO    LAX  13788"
      ]
     },
     "metadata": {},
     "output_type": "display_data"
    }
   ],
   "source": [
    "needed <- df\n",
    "needed %>% group_by(Origin, Dest) %>% summarise(n=n()) %>% arrange(-n) %>% .[1,]\n"
   ]
  },
  {
   "cell_type": "markdown",
   "metadata": {},
   "source": [
    "**4. Find top-5 delayed routes (count how many times they were delayed on departure). From all flights on these 5 routes, count all flights with weather conditions contributing to a delay.**\n",
    "\n",
    "- 449 \n",
    "- 539 \n",
    "- 549 \n",
    "- **668** "
   ]
  },
  {
   "cell_type": "code",
   "execution_count": 129,
   "metadata": {},
   "outputs": [
    {
     "data": {
      "text/html": [
       "668"
      ],
      "text/latex": [
       "668"
      ],
      "text/markdown": [
       "668"
      ],
      "text/plain": [
       "[1] 668"
      ]
     },
     "metadata": {},
     "output_type": "display_data"
    }
   ],
   "source": [
    "needed <- df\n",
    "filter(needed, DepDelay>0) %>% group_by(Origin, Dest) %>% summarize(n = n(), w = length(which(WeatherDelay > 0))) %>% arrange(-n) %>% .[1:5, 'w'] %>% sum()"
   ]
  },
  {
   "cell_type": "markdown",
   "metadata": {},
   "source": [
    "**5. Examine the hourly distribution of departure times. For that, create a new series from DepTime, removing missing values.**\n",
    "\n",
    "**Choose all correct statements:**\n",
    " - Flights are normally distributed within time interval [0-23] (Search for: Normal distribution, bell curve).\n",
    " - Flights are uniformly distributed within time interval [0-23].\n",
    " - **In the period from 0 am to 4 am there are considerably less flights than from 7 pm to 8 pm.**"
   ]
  },
  {
   "cell_type": "code",
   "execution_count": 138,
   "metadata": {},
   "outputs": [
    {
     "data": {
      "image/png": "[encoded data removed]",
      "text/plain": [
       "Plot with title \"Histogram of needed$DepTime\""
      ]
     },
     "metadata": {
      "image/png": {
       "height": 420,
       "width": 420
      }
     },
     "output_type": "display_data"
    }
   ],
   "source": [
    "needed = df[!is.na(df['DepTime']), 'DepTime']\n",
    "hist(needed$DepTime, breaks = 10, col='purple')"
   ]
  },
  {
   "cell_type": "markdown",
   "metadata": {},
   "source": [
    "**6. Show how the number of flights changes through time (on the daily/weekly/monthly basis) and interpret the findings.**\n",
    "\n",
    "**Choose all correct statements:**\n",
    "- **The number of flights during weekends is less than during weekdays (working days).**\n",
    "- The lowest number of flights is on Sunday.\n",
    "- **There are less flights during winter than during summer.**  "
   ]
  },
  {
   "cell_type": "code",
   "execution_count": 4,
   "metadata": {},
   "outputs": [
    {
     "data": {
      "image/png": "[encoded data removed]",
      "text/plain": [
       "plot without title"
      ]
     },
     "metadata": {
      "image/png": {
       "height": 420,
       "width": 420
      }
     },
     "output_type": "display_data"
    }
   ],
   "source": [
    "barplot(table(df['DayOfWeek']))"
   ]
  },
  {
   "cell_type": "code",
   "execution_count": 5,
   "metadata": {},
   "outputs": [
    {
     "data": {
      "image/png": "[encoded data removed]",
      "text/plain": [
       "plot without title"
      ]
     },
     "metadata": {
      "image/png": {
       "height": 420,
       "width": 420
      }
     },
     "output_type": "display_data"
    }
   ],
   "source": [
    "barplot(table(df['Month']))"
   ]
  },
  {
   "cell_type": "markdown",
   "metadata": {},
   "source": [
    "**7. Examine the distribution of cancellation reasons with time. Make a bar plot of cancellation reasons aggregated by months.**\n",
    "\n",
    "**Choose all correct statements:**\n",
    "- **December has the highest rate of cancellations due to weather.** \n",
    "- The highest rate of cancellations in September is due to Security reasons.\n",
    "- **April's top cancellation reason is carriers.**\n",
    "- Flights cancellations due to National Air System are more frequent than those due to carriers."
   ]
  },
  {
   "cell_type": "code",
   "execution_count": 11,
   "metadata": {},
   "outputs": [
    {
     "data": {
      "text/html": [
       "<table>\n",
       "<caption>A grouped_df: 41 × 3</caption>\n",
       "<thead>\n",
       "\t<tr><th scope=col>CancellationCode</th><th scope=col>Month</th><th scope=col>n</th></tr>\n",
       "\t<tr><th scope=col>&lt;chr&gt;</th><th scope=col>&lt;int&gt;</th><th scope=col>&lt;int&gt;</th></tr>\n",
       "</thead>\n",
       "<tbody>\n",
       "\t<tr><td>B</td><td>12</td><td>10042</td></tr>\n",
       "\t<tr><td>B</td><td> 2</td><td>10034</td></tr>\n",
       "\t<tr><td>B</td><td> 3</td><td> 7520</td></tr>\n",
       "\t<tr><td>A</td><td> 4</td><td> 7312</td></tr>\n",
       "\t<tr><td>B</td><td> 1</td><td> 6711</td></tr>\n",
       "\t<tr><td>A</td><td> 1</td><td> 6635</td></tr>\n",
       "\t<tr><td>B</td><td> 9</td><td> 6478</td></tr>\n",
       "\t<tr><td>A</td><td> 2</td><td> 6090</td></tr>\n",
       "\t<tr><td>A</td><td> 3</td><td> 6038</td></tr>\n",
       "\t<tr><td>A</td><td> 7</td><td> 5292</td></tr>\n",
       "\t<tr><td>A</td><td>12</td><td> 4850</td></tr>\n",
       "\t<tr><td>C</td><td> 2</td><td> 4470</td></tr>\n",
       "\t<tr><td>A</td><td> 6</td><td> 4251</td></tr>\n",
       "\t<tr><td>C</td><td> 1</td><td> 3962</td></tr>\n",
       "\t<tr><td>A</td><td> 8</td><td> 3852</td></tr>\n",
       "\t<tr><td>B</td><td> 8</td><td> 3582</td></tr>\n",
       "\t<tr><td>B</td><td> 6</td><td> 3448</td></tr>\n",
       "\t<tr><td>C</td><td> 6</td><td> 3232</td></tr>\n",
       "\t<tr><td>A</td><td> 5</td><td> 3157</td></tr>\n",
       "\t<tr><td>C</td><td>12</td><td> 2887</td></tr>\n",
       "\t<tr><td>C</td><td> 7</td><td> 2694</td></tr>\n",
       "\t<tr><td>C</td><td> 3</td><td> 2621</td></tr>\n",
       "\t<tr><td>B</td><td> 7</td><td> 2612</td></tr>\n",
       "\t<tr><td>A</td><td>11</td><td> 2510</td></tr>\n",
       "\t<tr><td>C</td><td> 8</td><td> 2401</td></tr>\n",
       "\t<tr><td>A</td><td> 9</td><td> 2246</td></tr>\n",
       "\t<tr><td>A</td><td>10</td><td> 2097</td></tr>\n",
       "\t<tr><td>C</td><td> 5</td><td> 1608</td></tr>\n",
       "\t<tr><td>C</td><td> 4</td><td> 1564</td></tr>\n",
       "\t<tr><td>B</td><td> 4</td><td> 1479</td></tr>\n",
       "\t<tr><td>B</td><td> 5</td><td> 1461</td></tr>\n",
       "\t<tr><td>C</td><td> 9</td><td> 1188</td></tr>\n",
       "\t<tr><td>C</td><td>11</td><td> 1009</td></tr>\n",
       "\t<tr><td>B</td><td>11</td><td>  937</td></tr>\n",
       "\t<tr><td>B</td><td>10</td><td>  600</td></tr>\n",
       "\t<tr><td>C</td><td>10</td><td>  552</td></tr>\n",
       "\t<tr><td>D</td><td> 3</td><td>    4</td></tr>\n",
       "\t<tr><td>D</td><td> 5</td><td>    3</td></tr>\n",
       "\t<tr><td>D</td><td> 2</td><td>    2</td></tr>\n",
       "\t<tr><td>D</td><td>11</td><td>    2</td></tr>\n",
       "\t<tr><td>D</td><td> 9</td><td>    1</td></tr>\n",
       "</tbody>\n",
       "</table>\n"
      ],
      "text/latex": [
       "A grouped\\_df: 41 × 3\n",
       "\\begin{tabular}{lll}\n",
       " CancellationCode & Month & n\\\\\n",
       " <chr> & <int> & <int>\\\\\n",
       "\\hline\n",
       "\t B & 12 & 10042\\\\\n",
       "\t B &  2 & 10034\\\\\n",
       "\t B &  3 &  7520\\\\\n",
       "\t A &  4 &  7312\\\\\n",
       "\t B &  1 &  6711\\\\\n",
       "\t A &  1 &  6635\\\\\n",
       "\t B &  9 &  6478\\\\\n",
       "\t A &  2 &  6090\\\\\n",
       "\t A &  3 &  6038\\\\\n",
       "\t A &  7 &  5292\\\\\n",
       "\t A & 12 &  4850\\\\\n",
       "\t C &  2 &  4470\\\\\n",
       "\t A &  6 &  4251\\\\\n",
       "\t C &  1 &  3962\\\\\n",
       "\t A &  8 &  3852\\\\\n",
       "\t B &  8 &  3582\\\\\n",
       "\t B &  6 &  3448\\\\\n",
       "\t C &  6 &  3232\\\\\n",
       "\t A &  5 &  3157\\\\\n",
       "\t C & 12 &  2887\\\\\n",
       "\t C &  7 &  2694\\\\\n",
       "\t C &  3 &  2621\\\\\n",
       "\t B &  7 &  2612\\\\\n",
       "\t A & 11 &  2510\\\\\n",
       "\t C &  8 &  2401\\\\\n",
       "\t A &  9 &  2246\\\\\n",
       "\t A & 10 &  2097\\\\\n",
       "\t C &  5 &  1608\\\\\n",
       "\t C &  4 &  1564\\\\\n",
       "\t B &  4 &  1479\\\\\n",
       "\t B &  5 &  1461\\\\\n",
       "\t C &  9 &  1188\\\\\n",
       "\t C & 11 &  1009\\\\\n",
       "\t B & 11 &   937\\\\\n",
       "\t B & 10 &   600\\\\\n",
       "\t C & 10 &   552\\\\\n",
       "\t D &  3 &     4\\\\\n",
       "\t D &  5 &     3\\\\\n",
       "\t D &  2 &     2\\\\\n",
       "\t D & 11 &     2\\\\\n",
       "\t D &  9 &     1\\\\\n",
       "\\end{tabular}\n"
      ],
      "text/markdown": [
       "\n",
       "A grouped_df: 41 × 3\n",
       "\n",
       "| CancellationCode &lt;chr&gt; | Month &lt;int&gt; | n &lt;int&gt; |\n",
       "|---|---|---|\n",
       "| B | 12 | 10042 |\n",
       "| B |  2 | 10034 |\n",
       "| B |  3 |  7520 |\n",
       "| A |  4 |  7312 |\n",
       "| B |  1 |  6711 |\n",
       "| A |  1 |  6635 |\n",
       "| B |  9 |  6478 |\n",
       "| A |  2 |  6090 |\n",
       "| A |  3 |  6038 |\n",
       "| A |  7 |  5292 |\n",
       "| A | 12 |  4850 |\n",
       "| C |  2 |  4470 |\n",
       "| A |  6 |  4251 |\n",
       "| C |  1 |  3962 |\n",
       "| A |  8 |  3852 |\n",
       "| B |  8 |  3582 |\n",
       "| B |  6 |  3448 |\n",
       "| C |  6 |  3232 |\n",
       "| A |  5 |  3157 |\n",
       "| C | 12 |  2887 |\n",
       "| C |  7 |  2694 |\n",
       "| C |  3 |  2621 |\n",
       "| B |  7 |  2612 |\n",
       "| A | 11 |  2510 |\n",
       "| C |  8 |  2401 |\n",
       "| A |  9 |  2246 |\n",
       "| A | 10 |  2097 |\n",
       "| C |  5 |  1608 |\n",
       "| C |  4 |  1564 |\n",
       "| B |  4 |  1479 |\n",
       "| B |  5 |  1461 |\n",
       "| C |  9 |  1188 |\n",
       "| C | 11 |  1009 |\n",
       "| B | 11 |   937 |\n",
       "| B | 10 |   600 |\n",
       "| C | 10 |   552 |\n",
       "| D |  3 |     4 |\n",
       "| D |  5 |     3 |\n",
       "| D |  2 |     2 |\n",
       "| D | 11 |     2 |\n",
       "| D |  9 |     1 |\n",
       "\n"
      ],
      "text/plain": [
       "   CancellationCode Month n    \n",
       "1  B                12    10042\n",
       "2  B                 2    10034\n",
       "3  B                 3     7520\n",
       "4  A                 4     7312\n",
       "5  B                 1     6711\n",
       "6  A                 1     6635\n",
       "7  B                 9     6478\n",
       "8  A                 2     6090\n",
       "9  A                 3     6038\n",
       "10 A                 7     5292\n",
       "11 A                12     4850\n",
       "12 C                 2     4470\n",
       "13 A                 6     4251\n",
       "14 C                 1     3962\n",
       "15 A                 8     3852\n",
       "16 B                 8     3582\n",
       "17 B                 6     3448\n",
       "18 C                 6     3232\n",
       "19 A                 5     3157\n",
       "20 C                12     2887\n",
       "21 C                 7     2694\n",
       "22 C                 3     2621\n",
       "23 B                 7     2612\n",
       "24 A                11     2510\n",
       "25 C                 8     2401\n",
       "26 A                 9     2246\n",
       "27 A                10     2097\n",
       "28 C                 5     1608\n",
       "29 C                 4     1564\n",
       "30 B                 4     1479\n",
       "31 B                 5     1461\n",
       "32 C                 9     1188\n",
       "33 C                11     1009\n",
       "34 B                11      937\n",
       "35 B                10      600\n",
       "36 C                10      552\n",
       "37 D                 3        4\n",
       "38 D                 5        3\n",
       "39 D                 2        2\n",
       "40 D                11        2\n",
       "41 D                 9        1"
      ]
     },
     "metadata": {},
     "output_type": "display_data"
    }
   ],
   "source": [
    "use <- df %>% filter(!is.na(CancellationCode)) %>% group_by(CancellationCode, Month) %>% summarize(n = n()) %>% arrange(-n)\n",
    "use"
   ]
  },
  {
   "cell_type": "code",
   "execution_count": 14,
   "metadata": {},
   "outputs": [
    {
     "data": {
      "image/png": "[encoded data removed]",
      "text/plain": [
       "plot without title"
      ]
     },
     "metadata": {
      "image/png": {
       "height": 420,
       "width": 420
      }
     },
     "output_type": "display_data"
    }
   ],
   "source": [
    "barplot(formula = use$n ~ use$CancellationCode + use$Month)"
   ]
  },
  {
   "cell_type": "markdown",
   "metadata": {},
   "source": [
    "**8. Which month has the greatest number of cancellations due to Carrier?** \n",
    "- May\n",
    "- January\n",
    "- September\n",
    "- **April**"
   ]
  },
  {
   "cell_type": "code",
   "execution_count": 9,
   "metadata": {},
   "outputs": [
    {
     "data": {
      "text/html": [
       "<table>\n",
       "<caption>A grouped_df: 1 × 3</caption>\n",
       "<thead>\n",
       "\t<tr><th scope=col>Month</th><th scope=col>CancellationCode</th><th scope=col>n</th></tr>\n",
       "\t<tr><th scope=col>&lt;int&gt;</th><th scope=col>&lt;chr&gt;</th><th scope=col>&lt;int&gt;</th></tr>\n",
       "</thead>\n",
       "<tbody>\n",
       "\t<tr><td>4</td><td>A</td><td>7312</td></tr>\n",
       "</tbody>\n",
       "</table>\n"
      ],
      "text/latex": [
       "A grouped\\_df: 1 × 3\n",
       "\\begin{tabular}{lll}\n",
       " Month & CancellationCode & n\\\\\n",
       " <int> & <chr> & <int>\\\\\n",
       "\\hline\n",
       "\t 4 & A & 7312\\\\\n",
       "\\end{tabular}\n"
      ],
      "text/markdown": [
       "\n",
       "A grouped_df: 1 × 3\n",
       "\n",
       "| Month &lt;int&gt; | CancellationCode &lt;chr&gt; | n &lt;int&gt; |\n",
       "|---|---|---|\n",
       "| 4 | A | 7312 |\n",
       "\n"
      ],
      "text/plain": [
       "  Month CancellationCode n   \n",
       "1 4     A                7312"
      ]
     },
     "metadata": {},
     "output_type": "display_data"
    }
   ],
   "source": [
    "needed <- filter(df, CancellationCode == 'A')\n",
    "needed %>% group_by(Month, CancellationCode) %>% summarize(n = n()) %>% arrange(-n) %>% .[1,]"
   ]
  },
  {
   "cell_type": "markdown",
   "metadata": {},
   "source": [
    "**9. Identify the carrier with the greatest number of cancellations due to carrier in the corresponding month from the previous question.**\n",
    "\n",
    "- 9E\n",
    "- EV\n",
    "- HA\n",
    "- **AA**"
   ]
  },
  {
   "cell_type": "code",
   "execution_count": 15,
   "metadata": {},
   "outputs": [
    {
     "data": {
      "text/html": [
       "<table>\n",
       "<caption>A tibble: 1 × 2</caption>\n",
       "<thead>\n",
       "\t<tr><th scope=col>UniqueCarrier</th><th scope=col>n</th></tr>\n",
       "\t<tr><th scope=col>&lt;chr&gt;</th><th scope=col>&lt;int&gt;</th></tr>\n",
       "</thead>\n",
       "<tbody>\n",
       "\t<tr><td>AA</td><td>3918</td></tr>\n",
       "</tbody>\n",
       "</table>\n"
      ],
      "text/latex": [
       "A tibble: 1 × 2\n",
       "\\begin{tabular}{ll}\n",
       " UniqueCarrier & n\\\\\n",
       " <chr> & <int>\\\\\n",
       "\\hline\n",
       "\t AA & 3918\\\\\n",
       "\\end{tabular}\n"
      ],
      "text/markdown": [
       "\n",
       "A tibble: 1 × 2\n",
       "\n",
       "| UniqueCarrier &lt;chr&gt; | n &lt;int&gt; |\n",
       "|---|---|\n",
       "| AA | 3918 |\n",
       "\n"
      ],
      "text/plain": [
       "  UniqueCarrier n   \n",
       "1 AA            3918"
      ]
     },
     "metadata": {},
     "output_type": "display_data"
    }
   ],
   "source": [
    "needed <- filter(df, Month == 4 & Cancelled == 1)\n",
    "needed %>% group_by(UniqueCarrier) %>% summarize(n = n()) %>% arrange(-n) %>% .[1,]"
   ]
  },
  {
   "cell_type": "markdown",
   "metadata": {},
   "source": [
    "**10. Examine median arrival and departure delays (in time) by carrier. Which carrier has the lowest median delay time for both arrivals and departures? Leave only non-negative values of delay times ('ArrDelay', 'DepDelay').\n",
    "[Boxplots](https://seaborn.pydata.org/generated/seaborn.boxplot.html) can be helpful in this exercise, as well as it might be a good idea to remove outliers in order to build nice graphs. You can exclude delay time values higher than a corresponding .95 percentile.**\n",
    "\n",
    "- EV\n",
    "- OO\n",
    "- AA\n",
    "- **AQ** "
   ]
  },
  {
   "cell_type": "code",
   "execution_count": 7,
   "metadata": {},
   "outputs": [
    {
     "data": {
      "text/html": [
       "<table>\n",
       "<caption>A tibble: 1 × 2</caption>\n",
       "<thead>\n",
       "\t<tr><th scope=col>UniqueCarrier</th><th scope=col>n</th></tr>\n",
       "\t<tr><th scope=col>&lt;chr&gt;</th><th scope=col>&lt;dbl&gt;</th></tr>\n",
       "</thead>\n",
       "<tbody>\n",
       "\t<tr><td>AQ</td><td>5</td></tr>\n",
       "</tbody>\n",
       "</table>\n"
      ],
      "text/latex": [
       "A tibble: 1 × 2\n",
       "\\begin{tabular}{ll}\n",
       " UniqueCarrier & n\\\\\n",
       " <chr> & <dbl>\\\\\n",
       "\\hline\n",
       "\t AQ & 5\\\\\n",
       "\\end{tabular}\n"
      ],
      "text/markdown": [
       "\n",
       "A tibble: 1 × 2\n",
       "\n",
       "| UniqueCarrier &lt;chr&gt; | n &lt;dbl&gt; |\n",
       "|---|---|\n",
       "| AQ | 5 |\n",
       "\n"
      ],
      "text/plain": [
       "  UniqueCarrier n\n",
       "1 AQ            5"
      ]
     },
     "metadata": {},
     "output_type": "display_data"
    }
   ],
   "source": [
    "df %>% filter(ArrDelay > 0) %>% group_by(UniqueCarrier) %>% summarize(n = median(ArrDelay)) %>% arrange(n) %>% .[1, ]"
   ]
  },
  {
   "cell_type": "code",
   "execution_count": 8,
   "metadata": {},
   "outputs": [
    {
     "data": {
      "text/html": [
       "<table>\n",
       "<caption>A tibble: 1 × 2</caption>\n",
       "<thead>\n",
       "\t<tr><th scope=col>UniqueCarrier</th><th scope=col>n</th></tr>\n",
       "\t<tr><th scope=col>&lt;chr&gt;</th><th scope=col>&lt;dbl&gt;</th></tr>\n",
       "</thead>\n",
       "<tbody>\n",
       "\t<tr><td>AQ</td><td>7</td></tr>\n",
       "</tbody>\n",
       "</table>\n"
      ],
      "text/latex": [
       "A tibble: 1 × 2\n",
       "\\begin{tabular}{ll}\n",
       " UniqueCarrier & n\\\\\n",
       " <chr> & <dbl>\\\\\n",
       "\\hline\n",
       "\t AQ & 7\\\\\n",
       "\\end{tabular}\n"
      ],
      "text/markdown": [
       "\n",
       "A tibble: 1 × 2\n",
       "\n",
       "| UniqueCarrier &lt;chr&gt; | n &lt;dbl&gt; |\n",
       "|---|---|\n",
       "| AQ | 7 |\n",
       "\n"
      ],
      "text/plain": [
       "  UniqueCarrier n\n",
       "1 AQ            7"
      ]
     },
     "metadata": {},
     "output_type": "display_data"
    }
   ],
   "source": [
    "df %>% filter(DepDelay > 0) %>% group_by(UniqueCarrier) %>% summarize(n = median(DepDelay)) %>% arrange(n) %>% .[1, ]"
   ]
  },
  {
   "cell_type": "code",
   "execution_count": null,
   "metadata": {},
   "outputs": [],
   "source": []
  }
 ],
 "metadata": {
  "kernelspec": {
   "display_name": "R",
   "language": "R",
   "name": "ir"
  },
  "language_info": {
   "codemirror_mode": "r",
   "file_extension": ".r",
   "mimetype": "text/x-r-source",
   "name": "R",
   "pygments_lexer": "r",
   "version": "3.6.3"
  }
 },
 "nbformat": 4,
 "nbformat_minor": 2
}
