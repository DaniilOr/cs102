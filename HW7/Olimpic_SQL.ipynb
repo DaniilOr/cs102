{
 "cells": [
  {
   "cell_type": "code",
   "execution_count": 33,
   "metadata": {},
   "outputs": [],
   "source": [
    "import psycopg2\n",
    "import csv\n",
    "\n",
    "conn = psycopg2.connect(\"host=localhost port=5432 dbname=odscourse user=postgres password=asecurepassword\")\n",
    "cursor = conn.cursor()\n",
    "import pandas as pd\n",
    "import numpy as np\n",
    "df = pd.read_csv('athlete_events.csv')\n",
    "# Clear data, change NaN to 0\n",
    "df = df.fillna(0)\n",
    "df['Age'] = df['Age'].astype(\"Int64\")\n",
    "df['Height'] = df['Height'].astype(\"Int64\")\n",
    "\n",
    "df.to_csv('for_sql.csv')\n"
   ]
  },
  {
   "cell_type": "code",
   "execution_count": 3,
   "metadata": {},
   "outputs": [],
   "source": [
    "query = \"\"\"\n",
    "CREATE TABLE IF NOT EXISTS olimpic(\n",
    "main_id SERIAL PRIMARY KEY,\n",
    "id INTEGER,\n",
    "Name VARCHAR,\n",
    "Sex VARCHAR,\n",
    "Age INTEGER,\n",
    "Height INTEGER,\n",
    "Weight FLOAT,\n",
    "Team VARCHAR,\n",
    "NOC VARCHAR,\n",
    "Games VARCHAR,\n",
    "Year INTEGER,\n",
    "Season VARCHAR,\n",
    "City VARCHAR,\n",
    "Sport VARCHAR,\n",
    "Event VARCHAR,\n",
    "Medal VARCHAR)\"\"\"\n"
   ]
  },
  {
   "cell_type": "code",
   "execution_count": 7,
   "metadata": {},
   "outputs": [],
   "source": [
    "cursor.execute(query)\n",
    "conn.commit()"
   ]
  },
  {
   "cell_type": "code",
   "execution_count": null,
   "metadata": {},
   "outputs": [],
   "source": [
    "with open('for_sql.csv', 'r') as f:\n",
    "    reader = csv.reader(f)\n",
    "    # Skip the header row\n",
    "    next(reader)\n",
    "    for ID, row in enumerate(reader):\n",
    "        cursor.execute(\n",
    "            \"INSERT INTO olimpic VALUES (%s, %s, %s, %s, %s, %s, %s, %s, %s, %s, %s, %s, %s, %s, %s, %s)\",\n",
    "            row\n",
    "        )\n",
    "conn.commit()"
   ]
  },
  {
   "cell_type": "code",
   "execution_count": 8,
   "metadata": {},
   "outputs": [
    {
     "data": {
      "text/html": [
       "<table>\n",
       "<tbody>\n",
       "<tr><td style=\"text-align: right;\">0</td><td style=\"text-align: right;\">1</td><td>A Dijiang               </td><td>M</td><td style=\"text-align: right;\">24</td><td style=\"text-align: right;\">180</td><td style=\"text-align: right;\">80</td><td>China         </td><td>CHN</td><td>1992 Summer</td><td style=\"text-align: right;\">1992</td><td>Summer</td><td>Barcelona</td><td>Basketball   </td><td>Basketball Men's Basketball     </td><td>0   </td></tr>\n",
       "<tr><td style=\"text-align: right;\">1</td><td style=\"text-align: right;\">2</td><td>A Lamusi                </td><td>M</td><td style=\"text-align: right;\">23</td><td style=\"text-align: right;\">170</td><td style=\"text-align: right;\">60</td><td>China         </td><td>CHN</td><td>2012 Summer</td><td style=\"text-align: right;\">2012</td><td>Summer</td><td>London   </td><td>Judo         </td><td>Judo Men's Extra-Lightweight    </td><td>0   </td></tr>\n",
       "<tr><td style=\"text-align: right;\">2</td><td style=\"text-align: right;\">3</td><td>Gunnar Nielsen Aaby     </td><td>M</td><td style=\"text-align: right;\">24</td><td style=\"text-align: right;\">  0</td><td style=\"text-align: right;\"> 0</td><td>Denmark       </td><td>DEN</td><td>1920 Summer</td><td style=\"text-align: right;\">1920</td><td>Summer</td><td>Antwerpen</td><td>Football     </td><td>Football Men's Football         </td><td>0   </td></tr>\n",
       "<tr><td style=\"text-align: right;\">3</td><td style=\"text-align: right;\">4</td><td>Edgar Lindenau Aabye    </td><td>M</td><td style=\"text-align: right;\">34</td><td style=\"text-align: right;\">  0</td><td style=\"text-align: right;\"> 0</td><td>Denmark/Sweden</td><td>DEN</td><td>1900 Summer</td><td style=\"text-align: right;\">1900</td><td>Summer</td><td>Paris    </td><td>Tug-Of-War   </td><td>Tug-Of-War Men's Tug-Of-War     </td><td>Gold</td></tr>\n",
       "<tr><td style=\"text-align: right;\">4</td><td style=\"text-align: right;\">5</td><td>Christine Jacoba Aaftink</td><td>F</td><td style=\"text-align: right;\">21</td><td style=\"text-align: right;\">185</td><td style=\"text-align: right;\">82</td><td>Netherlands   </td><td>NED</td><td>1988 Winter</td><td style=\"text-align: right;\">1988</td><td>Winter</td><td>Calgary  </td><td>Speed Skating</td><td>Speed Skating Women's 500 metres</td><td>0   </td></tr>\n",
       "</tbody>\n",
       "</table>"
      ],
      "text/plain": [
       "<IPython.core.display.HTML object>"
      ]
     },
     "metadata": {},
     "output_type": "display_data"
    },
    {
     "name": "stdout",
     "output_type": "stream",
     "text": [
      "None\n"
     ]
    }
   ],
   "source": [
    "from tabulate import tabulate\n",
    "from IPython.display import HTML, display\n",
    "\n",
    "# Function to run queries\n",
    "def fetch_all(cursor):\n",
    "    colnames = [desc[0] for desc in cursor.description]\n",
    "    records = cursor.fetchall()\n",
    "    print(display(HTML(tabulate([{colname:value for colname, value in zip(colnames, record)} for record in records], tablefmt='html')))) \n",
    "\n",
    "\n",
    "cursor.execute(\n",
    "    \"\"\"\n",
    "    SELECT * FROM olimpic Limit 5\n",
    "    \n",
    "    \"\"\"\n",
    ")\n",
    "fetch_all(cursor)"
   ]
  },
  {
   "cell_type": "markdown",
   "metadata": {},
   "source": [
    "__1. How old were the youngest male and female participants of the 1996 Olympics?__\n",
    "\n",
    "- 16 and 15\n",
    "- **14 and 12**\n",
    "- 16 and 12\n",
    "- 13 and 11"
   ]
  },
  {
   "cell_type": "code",
   "execution_count": 9,
   "metadata": {},
   "outputs": [
    {
     "data": {
      "text/html": [
       "<table>\n",
       "<tbody>\n",
       "<tr><td style=\"text-align: right;\">14</td></tr>\n",
       "</tbody>\n",
       "</table>"
      ],
      "text/plain": [
       "<IPython.core.display.HTML object>"
      ]
     },
     "metadata": {},
     "output_type": "display_data"
    },
    {
     "name": "stdout",
     "output_type": "stream",
     "text": [
      "None\n"
     ]
    }
   ],
   "source": [
    "#Find the youngest Male\n",
    "cursor.execute(\n",
    "    \"\"\"\n",
    "    SELECT MIN(Age) FROM olimpic WHERE Sex = 'M' and Age > 0 and Year = 1996\n",
    "    \n",
    "    \"\"\"\n",
    ")\n",
    "fetch_all(cursor)"
   ]
  },
  {
   "cell_type": "code",
   "execution_count": 10,
   "metadata": {},
   "outputs": [
    {
     "data": {
      "text/html": [
       "<table>\n",
       "<tbody>\n",
       "<tr><td style=\"text-align: right;\">12</td></tr>\n",
       "</tbody>\n",
       "</table>"
      ],
      "text/plain": [
       "<IPython.core.display.HTML object>"
      ]
     },
     "metadata": {},
     "output_type": "display_data"
    },
    {
     "name": "stdout",
     "output_type": "stream",
     "text": [
      "None\n"
     ]
    }
   ],
   "source": [
    "#Find the youngest Female\n",
    "cursor.execute(\n",
    "    \"\"\"\n",
    "    SELECT MIN(Age) FROM olimpic WHERE Sex = 'F' and Age > 0 and Year = 1996\n",
    "    \n",
    "    \"\"\"\n",
    ")\n",
    "fetch_all(cursor)"
   ]
  },
  {
   "cell_type": "markdown",
   "metadata": {},
   "source": [
    "__2. What was the percentage of male gymnasts among all the male participants of the 2000 Olympics? Round the answer to the first decimal.__\n",
    "\n",
    "*Hint:* here and further if needed drop duplicated sportsmen to count only unique ones. \n",
    "\n",
    "- 0.2\n",
    "- **1.5** \n",
    "- 2.5\n",
    "- 7.7"
   ]
  },
  {
   "cell_type": "code",
   "execution_count": null,
   "metadata": {},
   "outputs": [],
   "source": [
    "# Create Tables to keep data about all gymnasts (gall) and all Male gymnasts (gm)\n",
    "cursor.execute(\n",
    "    \"\"\"\n",
    "CREATE TABLE gall(Name Varchar);\n",
    "  CREATE TABLE gm(Name Varchar);\n",
    "    \n",
    "    \n",
    "    \"\"\"\n",
    ")\n",
    "conn.commit()\n",
    "fetch_all(cursor)"
   ]
  },
  {
   "cell_type": "code",
   "execution_count": 289,
   "metadata": {},
   "outputs": [],
   "source": [
    "# Fill these tables (postfresSQL does not allow to work with CTE, so we have to create tables in order to get rid of repeatitions)\n",
    "cursor.execute(\n",
    "    \"\"\"\n",
    "   WITH t_deleted AS\n",
    "(SELECT * FROM olimpic WHERE Year = 2000 and Sex = 'M'), -- 1st step\n",
    "t_inserted AS\n",
    "(SELECT *, ROW_NUMBER() OVER(PARTITION BY id ORDER BY name) rnk\n",
    "    FROM t_deleted ) -- 2nd step\n",
    "INSERT INTO gall SELECT Name FROM t_inserted \n",
    "WHERE rnk=1;\n",
    "  WITH t_deleted AS\n",
    "(SELECT * FROM olimpic WHERE Sex = 'M' and Year = 2000 and Sport = 'Gymnastics'), -- 1st step\n",
    "t_inserted AS\n",
    "(SELECT *, ROW_NUMBER() OVER(PARTITION BY id ORDER BY name) rnk\n",
    "    FROM t_deleted ) -- 2nd step\n",
    "INSERT INTO gm SELECT Name FROM t_inserted \n",
    "\n",
    "WHERE rnk=1;\n",
    "\n",
    "\n",
    "     \"\"\"\n",
    ")\n",
    "conn.commit()"
   ]
  },
  {
   "cell_type": "code",
   "execution_count": 295,
   "metadata": {},
   "outputs": [
    {
     "data": {
      "text/html": [
       "<table>\n",
       "<tbody>\n",
       "<tr><td style=\"text-align: right;\">1.47439</td></tr>\n",
       "</tbody>\n",
       "</table>"
      ],
      "text/plain": [
       "<IPython.core.display.HTML object>"
      ]
     },
     "metadata": {},
     "output_type": "display_data"
    },
    {
     "name": "stdout",
     "output_type": "stream",
     "text": [
      "None\n"
     ]
    }
   ],
   "source": [
    "# Calculate the percentage\n",
    "cursor.execute(\n",
    "    \"\"\"\n",
    " SELECT\n",
    "  (SELECT Count(gm.Name) from gm )/ (SELECT COUNT(gall.Name) FROM gall) ::numeric * 100 as result\n",
    "\n",
    "\n",
    "     \"\"\"\n",
    ")\n",
    "fetch_all(cursor)"
   ]
  },
  {
   "cell_type": "code",
   "execution_count": 298,
   "metadata": {},
   "outputs": [],
   "source": [
    "# get rid of temporary tables\n",
    "cursor.execute(\n",
    "    \"\"\"\n",
    "DROP TABLE gall;\n",
    "DROP TABLE gm;\n",
    "    \n",
    "    \n",
    "    \"\"\"\n",
    ")\n",
    "conn.commit()\n",
    "#fetch_all(cursor)"
   ]
  },
  {
   "cell_type": "markdown",
   "metadata": {},
   "source": [
    "\n",
    "__3. What are the mean and standard deviation of height for female basketball players participated in the 2000 Olympics? Round the answer to the first decimal.__\n",
    "\n",
    "- 178.5 and 7.2\n",
    "- 179.4 and 10\n",
    "- 180.7 and 6.7\n",
    "- **182.4 and 9.1**"
   ]
  },
  {
   "cell_type": "code",
   "execution_count": 297,
   "metadata": {},
   "outputs": [],
   "source": [
    "conn.commit()"
   ]
  },
  {
   "cell_type": "code",
   "execution_count": 306,
   "metadata": {},
   "outputs": [],
   "source": [
    "#Create table to keep all the data without repeatitions by name\n",
    "query = \"\"\"\n",
    "CREATE TABLE IF NOT EXISTS olimpic_new(\n",
    "main_id SERIAL PRIMARY KEY,\n",
    "id INTEGER,\n",
    "Name VARCHAR,\n",
    "Sex VARCHAR,\n",
    "Age INTEGER,\n",
    "Height INTEGER,\n",
    "Weight FLOAT,\n",
    "Team VARCHAR,\n",
    "NOC VARCHAR,\n",
    "Games VARCHAR,\n",
    "Year INTEGER,\n",
    "Season VARCHAR,\n",
    "City VARCHAR,\n",
    "Sport VARCHAR,\n",
    "Event VARCHAR,\n",
    "Medal VARCHAR);\n",
    "CREATE TABLE tmp (\n",
    "main_id SERIAL PRIMARY KEY,\n",
    "id INTEGER,\n",
    "Name VARCHAR,\n",
    "Sex VARCHAR,\n",
    "Age INTEGER,\n",
    "Height INTEGER,\n",
    "Weight FLOAT,\n",
    "Team VARCHAR,\n",
    "NOC VARCHAR,\n",
    "Games VARCHAR,\n",
    "Year INTEGER,\n",
    "Season VARCHAR,\n",
    "City VARCHAR,\n",
    "Sport VARCHAR,\n",
    "Event VARCHAR,\n",
    "Medal VARCHAR,\n",
    "rnk INTEGER)\n",
    "\"\"\"\n",
    "cursor.execute(query)\n",
    "conn.commit()"
   ]
  },
  {
   "cell_type": "code",
   "execution_count": 312,
   "metadata": {},
   "outputs": [],
   "source": [
    "# fill this table\n",
    "cursor.execute(\n",
    "    \"\"\"\n",
    "    \n",
    "   WITH t_deleted AS\n",
    "(SELECT * FROM olimpic), -- 1st step\n",
    "t_inserted AS\n",
    "(SELECT *, ROW_NUMBER() OVER(PARTITION BY id ORDER BY id) rnk\n",
    "    FROM t_deleted) -- 2nd step\n",
    "INSERT INTO tmp SELECT * FROM t_inserted \n",
    "WHERE rnk=1; -- 3rd step \n",
    "\n",
    "ALTER TABLE tmp DROP COLUMN rnk;\n",
    "\n",
    "INSERT INTO olimpic_new SELECT * FROM tmp;\n",
    "\n",
    "DROP TABLE tmp; \n",
    "     \"\"\"\n",
    ")\n",
    "conn.commit()"
   ]
  },
  {
   "cell_type": "code",
   "execution_count": 359,
   "metadata": {},
   "outputs": [
    {
     "data": {
      "text/html": [
       "<table>\n",
       "<tbody>\n",
       "<tr><td style=\"text-align: right;\">182.5</td><td style=\"text-align: right;\">9.13241</td></tr>\n",
       "</tbody>\n",
       "</table>"
      ],
      "text/plain": [
       "<IPython.core.display.HTML object>"
      ]
     },
     "metadata": {},
     "output_type": "display_data"
    },
    {
     "name": "stdout",
     "output_type": "stream",
     "text": [
      "None\n"
     ]
    }
   ],
   "source": [
    "# calculate the mean and std using standart functions\n",
    "cursor.execute(\n",
    " \"\"\"\n",
    " \n",
    " SELECT   avg(olimpic_new.Height), stddev(olimpic_new.Height) FROM olimpic_new\n",
    "     WHERE Sex = 'F' and Sport = 'Basketball' and Year = 2000 and Height > 0\n",
    " \"\"\"\n",
    ")\n",
    "fetch_all(cursor)\n"
   ]
  },
  {
   "cell_type": "code",
   "execution_count": 358,
   "metadata": {},
   "outputs": [],
   "source": [
    "conn.commit()"
   ]
  },
  {
   "cell_type": "markdown",
   "metadata": {},
   "source": [
    "__4. Find a sportsperson participated in the 2002 Olympics, with the highest weight among other participants of the same Olympics. What sport did he or she do?__\n",
    "\n",
    "- Judo\n",
    "- **Bobsleigh**\n",
    "- Weightlifting\n",
    "- Boxing"
   ]
  },
  {
   "cell_type": "code",
   "execution_count": 372,
   "metadata": {},
   "outputs": [
    {
     "data": {
      "text/html": [
       "<table>\n",
       "<tbody>\n",
       "<tr><td>Bobsleigh</td></tr>\n",
       "</tbody>\n",
       "</table>"
      ],
      "text/plain": [
       "<IPython.core.display.HTML object>"
      ]
     },
     "metadata": {},
     "output_type": "display_data"
    },
    {
     "name": "stdout",
     "output_type": "stream",
     "text": [
      "None\n"
     ]
    }
   ],
   "source": [
    "# Get the heaviest sportperson\n",
    "cursor.execute(\n",
    " \"\"\"\n",
    " \n",
    " \n",
    " SELECT Sport FROM olimpic_new\n",
    "     WHERE Year = 2002 and  Weight = (SELECT MAX(Weight) FROM olimpic_new WHERE Year = 2002) Limit 1\n",
    " \"\"\"\n",
    ")\n",
    "fetch_all(cursor)\n"
   ]
  },
  {
   "cell_type": "code",
   "execution_count": 370,
   "metadata": {},
   "outputs": [],
   "source": [
    "conn.commit()"
   ]
  },
  {
   "cell_type": "markdown",
   "metadata": {},
   "source": [
    "__5. How many times did Pawe Abratkiewicz participate in the Olympics held in different years?__\n",
    "\n",
    "- 0\n",
    "- 1 \n",
    "- 2\n",
    "- ***3*** "
   ]
  },
  {
   "cell_type": "code",
   "execution_count": 412,
   "metadata": {},
   "outputs": [
    {
     "data": {
      "text/html": [
       "<table>\n",
       "<tbody>\n",
       "<tr><td style=\"text-align: right;\"> 997</td><td style=\"text-align: right;\">562</td><td>Pawe Abratkiewicz</td><td>M</td><td style=\"text-align: right;\">21</td><td style=\"text-align: right;\">183</td><td style=\"text-align: right;\">84</td><td>Poland</td><td>POL</td><td>1992 Winter</td><td style=\"text-align: right;\">1992</td><td>Winter</td><td>Albertville   </td><td>Speed Skating</td><td>Speed Skating Men's 500 metres  </td><td style=\"text-align: right;\">0</td></tr>\n",
       "<tr><td style=\"text-align: right;\"> 998</td><td style=\"text-align: right;\">562</td><td>Pawe Abratkiewicz</td><td>M</td><td style=\"text-align: right;\">21</td><td style=\"text-align: right;\">183</td><td style=\"text-align: right;\">84</td><td>Poland</td><td>POL</td><td>1992 Winter</td><td style=\"text-align: right;\">1992</td><td>Winter</td><td>Albertville   </td><td>Speed Skating</td><td>Speed Skating Men's 1,000 metres</td><td style=\"text-align: right;\">0</td></tr>\n",
       "<tr><td style=\"text-align: right;\"> 999</td><td style=\"text-align: right;\">562</td><td>Pawe Abratkiewicz</td><td>M</td><td style=\"text-align: right;\">27</td><td style=\"text-align: right;\">183</td><td style=\"text-align: right;\">84</td><td>Poland</td><td>POL</td><td>1998 Winter</td><td style=\"text-align: right;\">1998</td><td>Winter</td><td>Nagano        </td><td>Speed Skating</td><td>Speed Skating Men's 500 metres  </td><td style=\"text-align: right;\">0</td></tr>\n",
       "<tr><td style=\"text-align: right;\">1000</td><td style=\"text-align: right;\">562</td><td>Pawe Abratkiewicz</td><td>M</td><td style=\"text-align: right;\">27</td><td style=\"text-align: right;\">183</td><td style=\"text-align: right;\">84</td><td>Poland</td><td>POL</td><td>1998 Winter</td><td style=\"text-align: right;\">1998</td><td>Winter</td><td>Nagano        </td><td>Speed Skating</td><td>Speed Skating Men's 1,000 metres</td><td style=\"text-align: right;\">0</td></tr>\n",
       "<tr><td style=\"text-align: right;\">1001</td><td style=\"text-align: right;\">562</td><td>Pawe Abratkiewicz</td><td>M</td><td style=\"text-align: right;\">31</td><td style=\"text-align: right;\">183</td><td style=\"text-align: right;\">84</td><td>Poland</td><td>POL</td><td>2002 Winter</td><td style=\"text-align: right;\">2002</td><td>Winter</td><td>Salt Lake City</td><td>Speed Skating</td><td>Speed Skating Men's 500 metres  </td><td style=\"text-align: right;\">0</td></tr>\n",
       "<tr><td style=\"text-align: right;\">1002</td><td style=\"text-align: right;\">562</td><td>Pawe Abratkiewicz</td><td>M</td><td style=\"text-align: right;\">31</td><td style=\"text-align: right;\">183</td><td style=\"text-align: right;\">84</td><td>Poland</td><td>POL</td><td>2002 Winter</td><td style=\"text-align: right;\">2002</td><td>Winter</td><td>Salt Lake City</td><td>Speed Skating</td><td>Speed Skating Men's 1,000 metres</td><td style=\"text-align: right;\">0</td></tr>\n",
       "</tbody>\n",
       "</table>"
      ],
      "text/plain": [
       "<IPython.core.display.HTML object>"
      ]
     },
     "metadata": {},
     "output_type": "display_data"
    },
    {
     "name": "stdout",
     "output_type": "stream",
     "text": [
      "None\n"
     ]
    }
   ],
   "source": [
    "#create a temporary table in order to keep there all the sportspersons not repeating pair of Name and Year of participation\n",
    "cursor.execute(\n",
    " \"\"\"\n",
    "  CREATE TABLE tmp(Name VARCHAR, Year VARCHAR);  \n",
    "   WITH t_deleted AS\n",
    "(SELECT * FROM olimpic), -- 1st step\n",
    "t_inserted AS\n",
    "(SELECT *, ROW_NUMBER() OVER(Partition BY Name, Year ORDER BY Year) rnk\n",
    "    FROM t_deleted) -- 2nd step\n",
    "INSERT INTO tmp SELECT Name, Year FROM t_inserted \n",
    "WHERE rnk=1; -- 3rd step \n",
    "\n",
    "\n",
    " \"\"\"\n",
    ")\n",
    "\n",
    "conn.commit()\n",
    "cursor.execute(\n",
    "\"\"\"\n",
    "SELECT * FROM olimpic\n",
    "     WHERE Name = 'Pawe Abratkiewicz';\n",
    "\n",
    "\"\"\")\n",
    "fetch_all(cursor)\n"
   ]
  },
  {
   "cell_type": "code",
   "execution_count": 413,
   "metadata": {},
   "outputs": [
    {
     "data": {
      "text/html": [
       "<table>\n",
       "<tbody>\n",
       "<tr><td style=\"text-align: right;\">6</td></tr>\n",
       "</tbody>\n",
       "</table>"
      ],
      "text/plain": [
       "<IPython.core.display.HTML object>"
      ]
     },
     "metadata": {},
     "output_type": "display_data"
    },
    {
     "name": "stdout",
     "output_type": "stream",
     "text": [
      "None\n"
     ]
    }
   ],
   "source": [
    "cursor.execute(\n",
    "\"\"\"\n",
    "SELECT Count(*) FROM olimpic\n",
    "     WHERE Name = 'Pawe Abratkiewicz';\n",
    "\n",
    "\"\"\")\n",
    "fetch_all(cursor)"
   ]
  },
  {
   "cell_type": "code",
   "execution_count": 414,
   "metadata": {},
   "outputs": [],
   "source": [
    "# get rid of the temporary table\n",
    "cursor.execute(\"DROP TABLE tmp; \")\n",
    "conn.commit()"
   ]
  },
  {
   "cell_type": "markdown",
   "metadata": {},
   "source": [
    "__6. How many silver medals in tennis did Australia win at the 2000 Olympics?__\n",
    "\n",
    "- 0\n",
    "- 1 \n",
    "- **2** \n",
    "- 3 "
   ]
  },
  {
   "cell_type": "code",
   "execution_count": 419,
   "metadata": {},
   "outputs": [
    {
     "data": {
      "text/html": [
       "<table>\n",
       "<tbody>\n",
       "<tr><td style=\"text-align: right;\">2</td></tr>\n",
       "</tbody>\n",
       "</table>"
      ],
      "text/plain": [
       "<IPython.core.display.HTML object>"
      ]
     },
     "metadata": {},
     "output_type": "display_data"
    },
    {
     "name": "stdout",
     "output_type": "stream",
     "text": [
      "None\n"
     ]
    }
   ],
   "source": [
    "# find out all the Silver medals won by Australia\n",
    "cursor.execute(\n",
    "\"\"\"\n",
    "SELECT Count(*) FROM olimpic\n",
    "     WHERE Medal = 'Silver' and Sport = 'Tennis' and Year = 2000 and Team = 'Australia';\n",
    "\n",
    "\"\"\")\n",
    "fetch_all(cursor)"
   ]
  },
  {
   "cell_type": "code",
   "execution_count": 418,
   "metadata": {},
   "outputs": [],
   "source": [
    "conn.commit()"
   ]
  },
  {
   "cell_type": "markdown",
   "metadata": {},
   "source": [
    "__7. Is it true that Switzerland won fewer medals than Serbia at the 2016 Olympics? Do not consider NaN values in _Medal_ column.__ \n",
    "\n",
    "- **Yes** \n",
    "- No"
   ]
  },
  {
   "cell_type": "code",
   "execution_count": 424,
   "metadata": {},
   "outputs": [
    {
     "data": {
      "text/html": [
       "<table>\n",
       "<tbody>\n",
       "<tr><td>True</td></tr>\n",
       "</tbody>\n",
       "</table>"
      ],
      "text/plain": [
       "<IPython.core.display.HTML object>"
      ]
     },
     "metadata": {},
     "output_type": "display_data"
    },
    {
     "name": "stdout",
     "output_type": "stream",
     "text": [
      "None\n"
     ]
    }
   ],
   "source": [
    "# Check the statement, here '0' represents NULL value (it cannot be NULL, because Weight is a Float and it does not work with NULLs)\n",
    "cursor.execute(\n",
    "\"\"\"\n",
    "SELECT(SELECT Count(*) FROM olimpic_new\n",
    "     WHERE Medal <> '0' and  Year = 2016 and Team = 'Serbia')\n",
    "     > (SELECT COUNT(*) FROM olimpic_new\n",
    "     WHERE Medal <> '0' and  Year = 2016 and Team = 'Switzerland');\n",
    "\n",
    "\"\"\")\n",
    "fetch_all(cursor)"
   ]
  },
  {
   "cell_type": "code",
   "execution_count": 423,
   "metadata": {},
   "outputs": [],
   "source": [
    "conn.commit()"
   ]
  },
  {
   "cell_type": "markdown",
   "metadata": {},
   "source": [
    "__8. What age category did the fewest and the most participants of the 2014 Olympics belong to?__\n",
    "- [45-55] and [25-35) correspondingly\n",
    "- **[45-55] and [15-25) correspondingly**\n",
    "- [35-45] and [25-35) correspondingly\n",
    "- [45-55] and [35-45) correspondingly"
   ]
  },
  {
   "cell_type": "code",
   "execution_count": 54,
   "metadata": {},
   "outputs": [
    {
     "data": {
      "text/html": [
       "<table>\n",
       "<tbody>\n",
       "<tr><td style=\"text-align: right;\">1</td><td style=\"text-align: right;\"> 1453</td></tr>\n",
       "<tr><td style=\"text-align: right;\">2</td><td style=\"text-align: right;\">54783</td></tr>\n",
       "<tr><td style=\"text-align: right;\">3</td><td style=\"text-align: right;\"> 6712</td></tr>\n",
       "<tr><td style=\"text-align: right;\">4</td><td style=\"text-align: right;\"> 6468</td></tr>\n",
       "<tr><td style=\"text-align: right;\">5</td><td style=\"text-align: right;\">65727</td></tr>\n",
       "</tbody>\n",
       "</table>"
      ],
      "text/plain": [
       "<IPython.core.display.HTML object>"
      ]
     },
     "metadata": {},
     "output_type": "display_data"
    },
    {
     "name": "stdout",
     "output_type": "stream",
     "text": [
      "None\n"
     ]
    }
   ],
   "source": [
    "# create a table to keep all the age brackets and their number\n",
    "cursor.execute(\n",
    "\"\"\"\n",
    "CREATE TABLE years(id INTEGER, cnt INTEGER);\n",
    "INSERT INTO years VALUES(1, (SELECT COUNT(*) FROM olimpic_new WHERE Age >= 45 and Age <= 55));\n",
    "INSERT INTO years VALUES(2, (SELECT COUNT(*) FROM olimpic_new WHERE Age >= 25 and Age < 35));\n",
    "INSERT INTO years VALUES(3, (SELECT COUNT(*) FROM olimpic_new WHERE Age >= 35 and Age <= 45));\n",
    "INSERT INTO years VALUES(4, (SELECT COUNT(*) FROM olimpic_new WHERE Age >= 35 and Age < 45));\n",
    "INSERT INTO years VALUES(5, (SELECT COUNT(*) FROM olimpic_new WHERE Age >= 15 and Age < 25));\n",
    "\"\"\")\n",
    "conn.commit()\n",
    "cursor.execute(\n",
    "\"\"\"\n",
    "Select * FROM years\n",
    "\"\"\")\n",
    "fetch_all(cursor)"
   ]
  },
  {
   "cell_type": "code",
   "execution_count": 55,
   "metadata": {},
   "outputs": [
    {
     "data": {
      "text/html": [
       "<table>\n",
       "<tbody>\n",
       "<tr><td style=\"text-align: right;\">5</td></tr>\n",
       "</tbody>\n",
       "</table>"
      ],
      "text/plain": [
       "<IPython.core.display.HTML object>"
      ]
     },
     "metadata": {},
     "output_type": "display_data"
    },
    {
     "name": "stdout",
     "output_type": "stream",
     "text": [
      "None\n"
     ]
    }
   ],
   "source": [
    "# Find id of the most populated group\n",
    "cursor.execute(\n",
    "\"\"\"\n",
    "Select id FROM years WHERE cnt = (Select MAX(cnt) FROM years)\n",
    "\n",
    "\"\"\")\n",
    "fetch_all(cursor)"
   ]
  },
  {
   "cell_type": "code",
   "execution_count": 57,
   "metadata": {},
   "outputs": [
    {
     "data": {
      "text/html": [
       "<table>\n",
       "<tbody>\n",
       "<tr><td style=\"text-align: right;\">1</td></tr>\n",
       "</tbody>\n",
       "</table>"
      ],
      "text/plain": [
       "<IPython.core.display.HTML object>"
      ]
     },
     "metadata": {},
     "output_type": "display_data"
    },
    {
     "name": "stdout",
     "output_type": "stream",
     "text": [
      "None\n"
     ]
    }
   ],
   "source": [
    "# Find id of the less populated group\n",
    "cursor.execute(\n",
    "\"\"\"\n",
    "Select id FROM years WHERE cnt = (Select MIN(cnt) FROM years)\n",
    "\n",
    "\"\"\")\n",
    "fetch_all(cursor)"
   ]
  },
  {
   "cell_type": "markdown",
   "metadata": {},
   "source": [
    "__9. Is it true that there were Summer Olympics held in Lake Placid? Is it true that there were Winter Olympics held in Sankt Moritz?__\n",
    "\n",
    "- Yes, Yes\n",
    "- Yes, No\n",
    "- **No, Yes** \n",
    "- No, No "
   ]
  },
  {
   "cell_type": "code",
   "execution_count": 425,
   "metadata": {},
   "outputs": [
    {
     "data": {
      "text/html": [
       "<table>\n",
       "<tbody>\n",
       "<tr><td>False</td><td>True</td></tr>\n",
       "</tbody>\n",
       "</table>"
      ],
      "text/plain": [
       "<IPython.core.display.HTML object>"
      ]
     },
     "metadata": {},
     "output_type": "display_data"
    },
    {
     "name": "stdout",
     "output_type": "stream",
     "text": [
      "None\n"
     ]
    }
   ],
   "source": [
    "# Simply check both statements\n",
    "cursor.execute(\n",
    "\"\"\"\n",
    "SELECT(SELECT Count(*) > 0 FROM olimpic_new\n",
    "     WHERE City = 'Lake Placid' and  Season = 'Summer') as first,\n",
    "     (SELECT COUNT(*) > 0 FROM olimpic_new\n",
    "     WHERE City = 'Sankt Moritz' and  Season = 'Winter') as second;\n",
    "\n",
    "\"\"\")\n",
    "fetch_all(cursor)"
   ]
  },
  {
   "cell_type": "markdown",
   "metadata": {},
   "source": [
    "__10. What is the absolute difference between the number of unique sports at the 1995 Olympics and 2016 Olympics?__\n",
    "\n",
    "- 16\n",
    "- 24\n",
    "- 26\n",
    "- **34**"
   ]
  },
  {
   "cell_type": "code",
   "execution_count": 48,
   "metadata": {},
   "outputs": [
    {
     "data": {
      "text/html": [
       "<table>\n",
       "<tbody>\n",
       "<tr><td style=\"text-align: right;\">34</td></tr>\n",
       "</tbody>\n",
       "</table>"
      ],
      "text/plain": [
       "<IPython.core.display.HTML object>"
      ]
     },
     "metadata": {},
     "output_type": "display_data"
    },
    {
     "name": "stdout",
     "output_type": "stream",
     "text": [
      "None\n"
     ]
    }
   ],
   "source": [
    "# create tables to keep All the sports from 1995 and 2016  games (PS there were no games in 1995)\n",
    "cursor.execute(\n",
    " \"\"\"\n",
    "  CREATE TABLE s1995(Sport VARCHAR);  \n",
    "   WITH t_deleted AS\n",
    "(SELECT * FROM olimpic WHERE Year = 1995), -- 1st step\n",
    "t_inserted AS\n",
    "(SELECT *, ROW_NUMBER() OVER(Partition BY Sport ORDER BY Sport) rnk\n",
    "    FROM t_deleted) -- 2nd step\n",
    "INSERT INTO s1995 SELECT Sport FROM t_inserted \n",
    "WHERE rnk=1; -- 3rd step \n",
    "\n",
    "  CREATE TABLE s2016(Sport VARCHAR);  \n",
    "   WITH t_deleted AS\n",
    "(SELECT * FROM olimpic WHERE Year = 2016), -- 1st step\n",
    "t_inserted AS\n",
    "(SELECT *, ROW_NUMBER() OVER(Partition BY Sport ORDER BY Year) rnk\n",
    "    FROM t_deleted) -- 2nd step\n",
    "INSERT INTO s2016 SELECT Sport FROM t_inserted \n",
    "WHERE rnk=1; -- 3rd step \n",
    "\n",
    " \"\"\"\n",
    ")\n",
    "\n",
    "conn.commit()\n",
    "cursor.execute(\n",
    "\"\"\"\n",
    "SELECT abs( (Select Count(*) from s1995) - (Select Count(*) from s2016))\n",
    "\n",
    "\"\"\")\n",
    "fetch_all(cursor)\n"
   ]
  },
  {
   "cell_type": "code",
   "execution_count": 47,
   "metadata": {},
   "outputs": [],
   "source": [
    "#Get rid of tmp tables\n",
    "cursor.execute(\n",
    " \"\"\"\n",
    "  DROP TABLE s1995;\n",
    "  DROP TABLE s2016;\n",
    "\n",
    " \"\"\"\n",
    ")\n",
    "\n",
    "conn.commit()"
   ]
  },
  {
   "cell_type": "code",
   "execution_count": 46,
   "metadata": {},
   "outputs": [],
   "source": [
    "\n",
    "conn.commit()"
   ]
  }
 ],
 "metadata": {
  "kernelspec": {
   "display_name": "Python 3",
   "language": "python",
   "name": "python3"
  },
  "language_info": {
   "codemirror_mode": {
    "name": "ipython",
    "version": 3
   },
   "file_extension": ".py",
   "mimetype": "text/x-python",
   "name": "python",
   "nbconvert_exporter": "python",
   "pygments_lexer": "ipython3",
   "version": "3.8.2"
  }
 },
 "nbformat": 4,
 "nbformat_minor": 4
}
